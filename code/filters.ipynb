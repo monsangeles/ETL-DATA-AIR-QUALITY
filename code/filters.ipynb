{
 "cells": [
  {
   "cell_type": "code",
   "execution_count": 10,
   "metadata": {},
   "outputs": [],
   "source": [
    "import pandas as pd\n"
   ]
  },
  {
   "cell_type": "code",
   "execution_count": null,
   "metadata": {},
   "outputs": [
    {
     "name": "stdout",
     "output_type": "stream",
     "text": [
      "                  City   avg_pm2_5    avg_pm10\n",
      "10               Delhi  117.127835  227.553405\n",
      "12            Gurugram  110.817981  137.913520\n",
      "21               Patna  110.553423   98.873746\n",
      "19             Lucknow  106.609681   95.680000\n",
      "13            Guwahati   63.655319  116.604900\n",
      "18             Kolkata   63.295749  114.281560\n",
      "0            Ahmedabad   61.826292   99.509736\n",
      "6         Brajrajnagar   61.003017  118.954083\n",
      "23             Talcher   58.852216  152.208822\n",
      "3             Amritsar   54.745168  114.195291\n",
      "15              Jaipur   54.436822  123.134093\n",
      "16          Jorapokhar   53.646758  136.959966\n",
      "8              Chennai   50.317546   90.742534\n",
      "5               Bhopal   50.013183  118.587993\n",
      "25       Visakhapatnam   47.221382  104.293324\n",
      "14           Hyderabad   47.123335   92.594895\n",
      "20              Mumbai   43.351812   96.084500\n",
      "7           Chandigarh   41.497336   85.656546\n",
      "2            Amaravati   38.443049   77.479253\n",
      "4            Bengaluru   36.746421   85.471867\n",
      "22            Shillong   34.487677   54.102968\n",
      "17               Kochi   31.428519   67.335432\n",
      "9           Coimbatore   29.554041   39.028472\n",
      "24  Thiruvananthapuram   28.812158   54.326808\n",
      "11           Ernakulam   25.528086   49.504630\n",
      "1               Aizawl   17.686460   23.992920\n"
     ]
    }
   ],
   "source": [
    "# Reporte de tamaño de partículas \"PM2.5\", \"PM10\"\n",
    "\n",
    "df = pd.read_csv(\"../refined-zone/city_day_refined.csv\")\n",
    "\n",
    "# Agrupar por \"City\" y calcular el promedio de las columnas \"PM2.5\", \"PM10\"\n",
    "result = (\n",
    "    df.groupby(\"City\")[[\"PM2.5\", \"PM10\"]]\n",
    "    .mean()\n",
    "    .rename(columns={\"PM2.5\": \"avg_pm2_5\", \"PM10\": \"avg_pm10\"})\n",
    "    .reset_index()\n",
    ")\n",
    "\n",
    "# Ordenar por promedio de \"PM2.5\" descendente\n",
    "result = result.sort_values(by=\"avg_pm2_5\", ascending=False)\n",
    "result.to_csv(\"../refined-zone/reports/PM_report.csv\")\n",
    "\n",
    "print(result)"
   ]
  },
  {
   "cell_type": "code",
   "execution_count": 16,
   "metadata": {},
   "outputs": [
    {
     "name": "stdout",
     "output_type": "stream",
     "text": [
      "                  City    avg_pm10\n",
      "10               Delhi  227.553405\n",
      "23             Talcher  152.208822\n",
      "12            Gurugram  137.913520\n",
      "16          Jorapokhar  136.959966\n",
      "15              Jaipur  123.134093\n",
      "6         Brajrajnagar  118.954083\n",
      "5               Bhopal  118.587993\n",
      "13            Guwahati  116.604900\n",
      "18             Kolkata  114.281560\n",
      "3             Amritsar  114.195291\n",
      "25       Visakhapatnam  104.293324\n",
      "0            Ahmedabad   99.509736\n",
      "21               Patna   98.873746\n",
      "20              Mumbai   96.084500\n",
      "19             Lucknow   95.680000\n",
      "14           Hyderabad   92.594895\n",
      "8              Chennai   90.742534\n",
      "7           Chandigarh   85.656546\n",
      "4            Bengaluru   85.471867\n",
      "2            Amaravati   77.479253\n",
      "17               Kochi   67.335432\n",
      "24  Thiruvananthapuram   54.326808\n",
      "22            Shillong   54.102968\n",
      "11           Ernakulam   49.504630\n",
      "9           Coimbatore   39.028472\n",
      "1               Aizawl   23.992920\n"
     ]
    }
   ],
   "source": [
    "# Reporte de tamaño de partículas \"PM10\"\n",
    "\n",
    "df = pd.read_csv(\"../refined-zone/city_day_refined.csv\")\n",
    "\n",
    "# Agrupar por \"City\" y calcular el promedio de las columnas \"PM10\"\n",
    "result = (\n",
    "    df.groupby(\"City\")[[\"PM10\"]]\n",
    "    .mean()\n",
    "    .rename(columns={\"PM10\": \"avg_pm10\"})\n",
    "    .reset_index()\n",
    ")\n",
    "\n",
    "# Ordenar por promedio de \"PM2.5\" descendente\n",
    "result = result.sort_values(by=\"avg_pm10\", ascending=False)\n",
    "result.to_csv(\"../refined-zone/reports/PM10_report.csv\")\n",
    "\n",
    "print(result)"
   ]
  },
  {
   "cell_type": "code",
   "execution_count": 20,
   "metadata": {},
   "outputs": [
    {
     "name": "stdout",
     "output_type": "stream",
     "text": [
      "                  City   avg_pm2_5\n",
      "10               Delhi  117.127835\n",
      "12            Gurugram  110.817981\n",
      "21               Patna  110.553423\n",
      "19             Lucknow  106.609681\n",
      "13            Guwahati   63.655319\n",
      "18             Kolkata   63.295749\n",
      "0            Ahmedabad   61.826292\n",
      "6         Brajrajnagar   61.003017\n",
      "23             Talcher   58.852216\n",
      "3             Amritsar   54.745168\n",
      "15              Jaipur   54.436822\n",
      "16          Jorapokhar   53.646758\n",
      "8              Chennai   50.317546\n",
      "5               Bhopal   50.013183\n",
      "25       Visakhapatnam   47.221382\n",
      "14           Hyderabad   47.123335\n",
      "20              Mumbai   43.351812\n",
      "7           Chandigarh   41.497336\n",
      "2            Amaravati   38.443049\n",
      "4            Bengaluru   36.746421\n",
      "22            Shillong   34.487677\n",
      "17               Kochi   31.428519\n",
      "9           Coimbatore   29.554041\n",
      "24  Thiruvananthapuram   28.812158\n",
      "11           Ernakulam   25.528086\n",
      "1               Aizawl   17.686460\n"
     ]
    }
   ],
   "source": [
    "# Reporte de tamaño de partículas \"PM2.5\"\n",
    "\n",
    "df = pd.read_csv(\"../refined-zone/city_day_refined.csv\")\n",
    "\n",
    "# Agrupar por \"City\" y calcular el promedio de las columnas \"PM2.5\"\n",
    "result = (\n",
    "    df.groupby(\"City\")[[\"PM2.5\"]]\n",
    "    .mean()\n",
    "    .rename(columns={\"PM2.5\": \"avg_pm2_5\"})\n",
    "    .reset_index()\n",
    ")\n",
    "\n",
    "# Ordenar por promedio de \"PM2.5\" descendente\n",
    "result = result.sort_values(by=\"avg_pm2_5\", ascending=False)\n",
    "result.to_csv(\"../refined-zone/reports/PM2_5_report.csv\")\n",
    "\n",
    "print(result)"
   ]
  },
  {
   "cell_type": "markdown",
   "metadata": {},
   "source": [
    "Reporte de Gases Peligrosos (NO, NO2, NH3)"
   ]
  },
  {
   "cell_type": "code",
   "execution_count": null,
   "metadata": {},
   "outputs": [],
   "source": [
    "# Reporte de tamaño de partículas \"PM2.5\"\n",
    "\n",
    "df = pd.read_csv(\"../refined-zone/city_day_refined.csv\")\n",
    "\n",
    "# Agrupar por \"City\" y calcular el promedio de las columnas \"PM2.5\"\n",
    "result = (\n",
    "    df.groupby(\"City\")[[\"NO\", \"NO2\", \"NH3\"]]\n",
    "    .mean()\n",
    "    .reset_index()\n",
    ")\n",
    "\n",
    "# Ordenar por promedio de \"PM2.5\" descendente\n",
    "result = result.sort_values(by=\"NO\", ascending=False)\n",
    "result.to_csv(\"../refined-zone/reports/PM2_5_report.csv\")\n",
    "\n",
    "print(result)"
   ]
  }
 ],
 "metadata": {
  "kernelspec": {
   "display_name": "Jupyter",
   "language": "python",
   "name": "python3"
  },
  "language_info": {
   "codemirror_mode": {
    "name": "ipython",
    "version": 3
   },
   "file_extension": ".py",
   "mimetype": "text/x-python",
   "name": "python",
   "nbconvert_exporter": "python",
   "pygments_lexer": "ipython3",
   "version": "3.12.3"
  }
 },
 "nbformat": 4,
 "nbformat_minor": 2
}
